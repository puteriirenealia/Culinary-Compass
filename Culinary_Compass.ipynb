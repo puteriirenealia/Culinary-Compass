{
  "metadata": {
    "kernelspec": {
      "language": "python",
      "display_name": "Python 3",
      "name": "python3"
    },
    "language_info": {
      "name": "python",
      "version": "3.11.13",
      "mimetype": "text/x-python",
      "codemirror_mode": {
        "name": "ipython",
        "version": 3
      },
      "pygments_lexer": "ipython3",
      "nbconvert_exporter": "python",
      "file_extension": ".py"
    },
    "kaggle": {
      "accelerator": "none",
      "dataSources": [],
      "dockerImageVersionId": 31089,
      "isInternetEnabled": true,
      "language": "python",
      "sourceType": "notebook",
      "isGpuEnabled": false
    },
    "colab": {
      "name": "Culinary Compass",
      "provenance": [],
      "include_colab_link": true
    }
  },
  "nbformat_minor": 0,
  "nbformat": 4,
  "cells": [
    {
      "cell_type": "markdown",
      "metadata": {
        "id": "view-in-github",
        "colab_type": "text"
      },
      "source": [
        "<a href=\"https://colab.research.google.com/github/puteriirenealia/Culinary-Compass/blob/main/Culinary_Compass.ipynb\" target=\"_parent\"><img src=\"https://colab.research.google.com/assets/colab-badge.svg\" alt=\"Open In Colab\"/></a>"
      ]
    },
    {
      "cell_type": "markdown",
      "source": [
        "# **🍽️ Culinary Compass (AI-Powered Restaurant Review Analysis System)**\n",
        "**A Comprehensive GenAI Study Jam 2025 Capstone Project**\n",
        "\n",
        "**Please avoid using 'Run All' and execute each code segment individually, as you will be prompted to enter your OpenAI API Key 🔑 and Google Maps API Key 🔑.**\n",
        "\n",
        "**🎯 Project Overview**\n",
        "Welcome to my Kaggle Gen AI Study Jam Capstone Project! This project demonstrates the practical application of three core Generative AI capabilities through the lens of restaurant review analysis. By combining real-world data from Google Maps with cutting-edge AI techniques, we'll build an intelligent system that can understand, analyze, and provide insights about dining experiences.\n",
        "\n",
        "**🚀 What This Project Accomplishes**\n",
        "In today's digital age, restaurant reviews are everywhere, but making sense of hundreds of opinions can be overwhelming. This project tackles that challenge by leveraging the power of Generative AI to:\n",
        "\n",
        "\n",
        "* Understand sentiment behind customer reviews using few-shot learning\n",
        "* Summarize key insights from multiple reviews with structured AI output\n",
        "* Answer specific questions about restaurants using Retrieval-Augmented Generation (RAG)"
      ],
      "metadata": {
        "id": "Pkv51OH_xpex"
      }
    },
    {
      "cell_type": "markdown",
      "source": [
        "# 1: Installing and Importing Necessary Libraries\n",
        "This section sets up our development environment by installing required packages and importing the essential libraries for our AI-powered restaurant review analysis system.\n",
        "\n",
        "Key packages being installed:\n",
        "\n",
        "**langchain** - Core framework for building AI applications with language models\\\n",
        "**openai** - Official OpenAI API client for GPT models\\\n",
        "**faiss-cpu** - Facebook's efficient similarity search library for vector embeddings\\\n",
        "**pandas** - Data manipulation and analysis library\\\n",
        "**plotly**- Interactive visualization library for creating charts and graphs\\\n",
        "**langchain-community** - Community-contributed LangChain integrations\\\n",
        "**langchain_openai** - Official OpenAI integrations for LangChain"
      ],
      "metadata": {
        "id": "EmStkRZcxpey"
      }
    },
    {
      "cell_type": "code",
      "source": [
        "!pip install langchain\n",
        "!pip install openai\n",
        "!pip install faiss-cpu\n",
        "!pip install pandas\n",
        "!pip install plotly\n",
        "!pip install langchain-community\n",
        "!pip install langchain_openai"
      ],
      "metadata": {
        "trusted": true,
        "execution": {
          "iopub.status.busy": "2025-07-24T13:29:44.319844Z",
          "iopub.execute_input": "2025-07-24T13:29:44.320248Z",
          "iopub.status.idle": "2025-07-24T13:30:12.739886Z",
          "shell.execute_reply.started": "2025-07-24T13:29:44.320213Z",
          "shell.execute_reply": "2025-07-24T13:30:12.738684Z"
        },
        "id": "JukPRXb-xpey",
        "outputId": "b2aa7167-fa20-4d74-c42c-b42e4281f148",
        "colab": {
          "base_uri": "https://localhost:8080/"
        }
      },
      "outputs": [
        {
          "output_type": "stream",
          "name": "stdout",
          "text": [
            "Requirement already satisfied: langchain in /usr/local/lib/python3.11/dist-packages (0.3.26)\n",
            "Requirement already satisfied: langchain-core<1.0.0,>=0.3.66 in /usr/local/lib/python3.11/dist-packages (from langchain) (0.3.71)\n",
            "Requirement already satisfied: langchain-text-splitters<1.0.0,>=0.3.8 in /usr/local/lib/python3.11/dist-packages (from langchain) (0.3.8)\n",
            "Requirement already satisfied: langsmith>=0.1.17 in /usr/local/lib/python3.11/dist-packages (from langchain) (0.4.8)\n",
            "Requirement already satisfied: pydantic<3.0.0,>=2.7.4 in /usr/local/lib/python3.11/dist-packages (from langchain) (2.11.7)\n",
            "Requirement already satisfied: SQLAlchemy<3,>=1.4 in /usr/local/lib/python3.11/dist-packages (from langchain) (2.0.41)\n",
            "Requirement already satisfied: requests<3,>=2 in /usr/local/lib/python3.11/dist-packages (from langchain) (2.32.3)\n",
            "Requirement already satisfied: PyYAML>=5.3 in /usr/local/lib/python3.11/dist-packages (from langchain) (6.0.2)\n",
            "Requirement already satisfied: tenacity!=8.4.0,<10.0.0,>=8.1.0 in /usr/local/lib/python3.11/dist-packages (from langchain-core<1.0.0,>=0.3.66->langchain) (8.5.0)\n",
            "Requirement already satisfied: jsonpatch<2.0,>=1.33 in /usr/local/lib/python3.11/dist-packages (from langchain-core<1.0.0,>=0.3.66->langchain) (1.33)\n",
            "Requirement already satisfied: typing-extensions>=4.7 in /usr/local/lib/python3.11/dist-packages (from langchain-core<1.0.0,>=0.3.66->langchain) (4.14.1)\n",
            "Requirement already satisfied: packaging>=23.2 in /usr/local/lib/python3.11/dist-packages (from langchain-core<1.0.0,>=0.3.66->langchain) (25.0)\n",
            "Requirement already satisfied: httpx<1,>=0.23.0 in /usr/local/lib/python3.11/dist-packages (from langsmith>=0.1.17->langchain) (0.28.1)\n",
            "Requirement already satisfied: orjson<4.0.0,>=3.9.14 in /usr/local/lib/python3.11/dist-packages (from langsmith>=0.1.17->langchain) (3.11.0)\n",
            "Requirement already satisfied: requests-toolbelt<2.0.0,>=1.0.0 in /usr/local/lib/python3.11/dist-packages (from langsmith>=0.1.17->langchain) (1.0.0)\n",
            "Requirement already satisfied: zstandard<0.24.0,>=0.23.0 in /usr/local/lib/python3.11/dist-packages (from langsmith>=0.1.17->langchain) (0.23.0)\n",
            "Requirement already satisfied: annotated-types>=0.6.0 in /usr/local/lib/python3.11/dist-packages (from pydantic<3.0.0,>=2.7.4->langchain) (0.7.0)\n",
            "Requirement already satisfied: pydantic-core==2.33.2 in /usr/local/lib/python3.11/dist-packages (from pydantic<3.0.0,>=2.7.4->langchain) (2.33.2)\n",
            "Requirement already satisfied: typing-inspection>=0.4.0 in /usr/local/lib/python3.11/dist-packages (from pydantic<3.0.0,>=2.7.4->langchain) (0.4.1)\n",
            "Requirement already satisfied: charset-normalizer<4,>=2 in /usr/local/lib/python3.11/dist-packages (from requests<3,>=2->langchain) (3.4.2)\n",
            "Requirement already satisfied: idna<4,>=2.5 in /usr/local/lib/python3.11/dist-packages (from requests<3,>=2->langchain) (3.10)\n",
            "Requirement already satisfied: urllib3<3,>=1.21.1 in /usr/local/lib/python3.11/dist-packages (from requests<3,>=2->langchain) (2.5.0)\n",
            "Requirement already satisfied: certifi>=2017.4.17 in /usr/local/lib/python3.11/dist-packages (from requests<3,>=2->langchain) (2025.7.14)\n",
            "Requirement already satisfied: greenlet>=1 in /usr/local/lib/python3.11/dist-packages (from SQLAlchemy<3,>=1.4->langchain) (3.2.3)\n",
            "Requirement already satisfied: anyio in /usr/local/lib/python3.11/dist-packages (from httpx<1,>=0.23.0->langsmith>=0.1.17->langchain) (4.9.0)\n",
            "Requirement already satisfied: httpcore==1.* in /usr/local/lib/python3.11/dist-packages (from httpx<1,>=0.23.0->langsmith>=0.1.17->langchain) (1.0.9)\n",
            "Requirement already satisfied: h11>=0.16 in /usr/local/lib/python3.11/dist-packages (from httpcore==1.*->httpx<1,>=0.23.0->langsmith>=0.1.17->langchain) (0.16.0)\n",
            "Requirement already satisfied: jsonpointer>=1.9 in /usr/local/lib/python3.11/dist-packages (from jsonpatch<2.0,>=1.33->langchain-core<1.0.0,>=0.3.66->langchain) (3.0.0)\n",
            "Requirement already satisfied: sniffio>=1.1 in /usr/local/lib/python3.11/dist-packages (from anyio->httpx<1,>=0.23.0->langsmith>=0.1.17->langchain) (1.3.1)\n",
            "Requirement already satisfied: openai in /usr/local/lib/python3.11/dist-packages (1.97.1)\n",
            "Requirement already satisfied: anyio<5,>=3.5.0 in /usr/local/lib/python3.11/dist-packages (from openai) (4.9.0)\n",
            "Requirement already satisfied: distro<2,>=1.7.0 in /usr/local/lib/python3.11/dist-packages (from openai) (1.9.0)\n",
            "Requirement already satisfied: httpx<1,>=0.23.0 in /usr/local/lib/python3.11/dist-packages (from openai) (0.28.1)\n",
            "Requirement already satisfied: jiter<1,>=0.4.0 in /usr/local/lib/python3.11/dist-packages (from openai) (0.10.0)\n",
            "Requirement already satisfied: pydantic<3,>=1.9.0 in /usr/local/lib/python3.11/dist-packages (from openai) (2.11.7)\n",
            "Requirement already satisfied: sniffio in /usr/local/lib/python3.11/dist-packages (from openai) (1.3.1)\n",
            "Requirement already satisfied: tqdm>4 in /usr/local/lib/python3.11/dist-packages (from openai) (4.67.1)\n",
            "Requirement already satisfied: typing-extensions<5,>=4.11 in /usr/local/lib/python3.11/dist-packages (from openai) (4.14.1)\n",
            "Requirement already satisfied: idna>=2.8 in /usr/local/lib/python3.11/dist-packages (from anyio<5,>=3.5.0->openai) (3.10)\n",
            "Requirement already satisfied: certifi in /usr/local/lib/python3.11/dist-packages (from httpx<1,>=0.23.0->openai) (2025.7.14)\n",
            "Requirement already satisfied: httpcore==1.* in /usr/local/lib/python3.11/dist-packages (from httpx<1,>=0.23.0->openai) (1.0.9)\n",
            "Requirement already satisfied: h11>=0.16 in /usr/local/lib/python3.11/dist-packages (from httpcore==1.*->httpx<1,>=0.23.0->openai) (0.16.0)\n",
            "Requirement already satisfied: annotated-types>=0.6.0 in /usr/local/lib/python3.11/dist-packages (from pydantic<3,>=1.9.0->openai) (0.7.0)\n",
            "Requirement already satisfied: pydantic-core==2.33.2 in /usr/local/lib/python3.11/dist-packages (from pydantic<3,>=1.9.0->openai) (2.33.2)\n",
            "Requirement already satisfied: typing-inspection>=0.4.0 in /usr/local/lib/python3.11/dist-packages (from pydantic<3,>=1.9.0->openai) (0.4.1)\n",
            "Requirement already satisfied: faiss-cpu in /usr/local/lib/python3.11/dist-packages (1.11.0.post1)\n",
            "Requirement already satisfied: numpy<3.0,>=1.25.0 in /usr/local/lib/python3.11/dist-packages (from faiss-cpu) (2.0.2)\n",
            "Requirement already satisfied: packaging in /usr/local/lib/python3.11/dist-packages (from faiss-cpu) (25.0)\n",
            "Requirement already satisfied: pandas in /usr/local/lib/python3.11/dist-packages (2.2.2)\n",
            "Requirement already satisfied: numpy>=1.23.2 in /usr/local/lib/python3.11/dist-packages (from pandas) (2.0.2)\n",
            "Requirement already satisfied: python-dateutil>=2.8.2 in /usr/local/lib/python3.11/dist-packages (from pandas) (2.9.0.post0)\n",
            "Requirement already satisfied: pytz>=2020.1 in /usr/local/lib/python3.11/dist-packages (from pandas) (2025.2)\n",
            "Requirement already satisfied: tzdata>=2022.7 in /usr/local/lib/python3.11/dist-packages (from pandas) (2025.2)\n",
            "Requirement already satisfied: six>=1.5 in /usr/local/lib/python3.11/dist-packages (from python-dateutil>=2.8.2->pandas) (1.17.0)\n",
            "Requirement already satisfied: plotly in /usr/local/lib/python3.11/dist-packages (5.24.1)\n",
            "Requirement already satisfied: tenacity>=6.2.0 in /usr/local/lib/python3.11/dist-packages (from plotly) (8.5.0)\n",
            "Requirement already satisfied: packaging in /usr/local/lib/python3.11/dist-packages (from plotly) (25.0)\n",
            "Requirement already satisfied: langchain-community in /usr/local/lib/python3.11/dist-packages (0.3.27)\n",
            "Requirement already satisfied: langchain-core<1.0.0,>=0.3.66 in /usr/local/lib/python3.11/dist-packages (from langchain-community) (0.3.71)\n",
            "Requirement already satisfied: langchain<1.0.0,>=0.3.26 in /usr/local/lib/python3.11/dist-packages (from langchain-community) (0.3.26)\n",
            "Requirement already satisfied: SQLAlchemy<3,>=1.4 in /usr/local/lib/python3.11/dist-packages (from langchain-community) (2.0.41)\n",
            "Requirement already satisfied: requests<3,>=2 in /usr/local/lib/python3.11/dist-packages (from langchain-community) (2.32.3)\n",
            "Requirement already satisfied: PyYAML>=5.3 in /usr/local/lib/python3.11/dist-packages (from langchain-community) (6.0.2)\n",
            "Requirement already satisfied: aiohttp<4.0.0,>=3.8.3 in /usr/local/lib/python3.11/dist-packages (from langchain-community) (3.12.14)\n",
            "Requirement already satisfied: tenacity!=8.4.0,<10,>=8.1.0 in /usr/local/lib/python3.11/dist-packages (from langchain-community) (8.5.0)\n",
            "Requirement already satisfied: dataclasses-json<0.7,>=0.5.7 in /usr/local/lib/python3.11/dist-packages (from langchain-community) (0.6.7)\n",
            "Requirement already satisfied: pydantic-settings<3.0.0,>=2.4.0 in /usr/local/lib/python3.11/dist-packages (from langchain-community) (2.10.1)\n",
            "Requirement already satisfied: langsmith>=0.1.125 in /usr/local/lib/python3.11/dist-packages (from langchain-community) (0.4.8)\n",
            "Requirement already satisfied: httpx-sse<1.0.0,>=0.4.0 in /usr/local/lib/python3.11/dist-packages (from langchain-community) (0.4.1)\n",
            "Requirement already satisfied: numpy>=1.26.2 in /usr/local/lib/python3.11/dist-packages (from langchain-community) (2.0.2)\n",
            "Requirement already satisfied: aiohappyeyeballs>=2.5.0 in /usr/local/lib/python3.11/dist-packages (from aiohttp<4.0.0,>=3.8.3->langchain-community) (2.6.1)\n",
            "Requirement already satisfied: aiosignal>=1.4.0 in /usr/local/lib/python3.11/dist-packages (from aiohttp<4.0.0,>=3.8.3->langchain-community) (1.4.0)\n",
            "Requirement already satisfied: attrs>=17.3.0 in /usr/local/lib/python3.11/dist-packages (from aiohttp<4.0.0,>=3.8.3->langchain-community) (25.3.0)\n",
            "Requirement already satisfied: frozenlist>=1.1.1 in /usr/local/lib/python3.11/dist-packages (from aiohttp<4.0.0,>=3.8.3->langchain-community) (1.7.0)\n",
            "Requirement already satisfied: multidict<7.0,>=4.5 in /usr/local/lib/python3.11/dist-packages (from aiohttp<4.0.0,>=3.8.3->langchain-community) (6.6.3)\n",
            "Requirement already satisfied: propcache>=0.2.0 in /usr/local/lib/python3.11/dist-packages (from aiohttp<4.0.0,>=3.8.3->langchain-community) (0.3.2)\n",
            "Requirement already satisfied: yarl<2.0,>=1.17.0 in /usr/local/lib/python3.11/dist-packages (from aiohttp<4.0.0,>=3.8.3->langchain-community) (1.20.1)\n",
            "Requirement already satisfied: marshmallow<4.0.0,>=3.18.0 in /usr/local/lib/python3.11/dist-packages (from dataclasses-json<0.7,>=0.5.7->langchain-community) (3.26.1)\n",
            "Requirement already satisfied: typing-inspect<1,>=0.4.0 in /usr/local/lib/python3.11/dist-packages (from dataclasses-json<0.7,>=0.5.7->langchain-community) (0.9.0)\n",
            "Requirement already satisfied: langchain-text-splitters<1.0.0,>=0.3.8 in /usr/local/lib/python3.11/dist-packages (from langchain<1.0.0,>=0.3.26->langchain-community) (0.3.8)\n",
            "Requirement already satisfied: pydantic<3.0.0,>=2.7.4 in /usr/local/lib/python3.11/dist-packages (from langchain<1.0.0,>=0.3.26->langchain-community) (2.11.7)\n",
            "Requirement already satisfied: jsonpatch<2.0,>=1.33 in /usr/local/lib/python3.11/dist-packages (from langchain-core<1.0.0,>=0.3.66->langchain-community) (1.33)\n",
            "Requirement already satisfied: typing-extensions>=4.7 in /usr/local/lib/python3.11/dist-packages (from langchain-core<1.0.0,>=0.3.66->langchain-community) (4.14.1)\n",
            "Requirement already satisfied: packaging>=23.2 in /usr/local/lib/python3.11/dist-packages (from langchain-core<1.0.0,>=0.3.66->langchain-community) (25.0)\n",
            "Requirement already satisfied: httpx<1,>=0.23.0 in /usr/local/lib/python3.11/dist-packages (from langsmith>=0.1.125->langchain-community) (0.28.1)\n",
            "Requirement already satisfied: orjson<4.0.0,>=3.9.14 in /usr/local/lib/python3.11/dist-packages (from langsmith>=0.1.125->langchain-community) (3.11.0)\n",
            "Requirement already satisfied: requests-toolbelt<2.0.0,>=1.0.0 in /usr/local/lib/python3.11/dist-packages (from langsmith>=0.1.125->langchain-community) (1.0.0)\n",
            "Requirement already satisfied: zstandard<0.24.0,>=0.23.0 in /usr/local/lib/python3.11/dist-packages (from langsmith>=0.1.125->langchain-community) (0.23.0)\n",
            "Requirement already satisfied: python-dotenv>=0.21.0 in /usr/local/lib/python3.11/dist-packages (from pydantic-settings<3.0.0,>=2.4.0->langchain-community) (1.1.1)\n",
            "Requirement already satisfied: typing-inspection>=0.4.0 in /usr/local/lib/python3.11/dist-packages (from pydantic-settings<3.0.0,>=2.4.0->langchain-community) (0.4.1)\n",
            "Requirement already satisfied: charset-normalizer<4,>=2 in /usr/local/lib/python3.11/dist-packages (from requests<3,>=2->langchain-community) (3.4.2)\n",
            "Requirement already satisfied: idna<4,>=2.5 in /usr/local/lib/python3.11/dist-packages (from requests<3,>=2->langchain-community) (3.10)\n",
            "Requirement already satisfied: urllib3<3,>=1.21.1 in /usr/local/lib/python3.11/dist-packages (from requests<3,>=2->langchain-community) (2.5.0)\n",
            "Requirement already satisfied: certifi>=2017.4.17 in /usr/local/lib/python3.11/dist-packages (from requests<3,>=2->langchain-community) (2025.7.14)\n",
            "Requirement already satisfied: greenlet>=1 in /usr/local/lib/python3.11/dist-packages (from SQLAlchemy<3,>=1.4->langchain-community) (3.2.3)\n",
            "Requirement already satisfied: anyio in /usr/local/lib/python3.11/dist-packages (from httpx<1,>=0.23.0->langsmith>=0.1.125->langchain-community) (4.9.0)\n",
            "Requirement already satisfied: httpcore==1.* in /usr/local/lib/python3.11/dist-packages (from httpx<1,>=0.23.0->langsmith>=0.1.125->langchain-community) (1.0.9)\n",
            "Requirement already satisfied: h11>=0.16 in /usr/local/lib/python3.11/dist-packages (from httpcore==1.*->httpx<1,>=0.23.0->langsmith>=0.1.125->langchain-community) (0.16.0)\n",
            "Requirement already satisfied: jsonpointer>=1.9 in /usr/local/lib/python3.11/dist-packages (from jsonpatch<2.0,>=1.33->langchain-core<1.0.0,>=0.3.66->langchain-community) (3.0.0)\n",
            "Requirement already satisfied: annotated-types>=0.6.0 in /usr/local/lib/python3.11/dist-packages (from pydantic<3.0.0,>=2.7.4->langchain<1.0.0,>=0.3.26->langchain-community) (0.7.0)\n",
            "Requirement already satisfied: pydantic-core==2.33.2 in /usr/local/lib/python3.11/dist-packages (from pydantic<3.0.0,>=2.7.4->langchain<1.0.0,>=0.3.26->langchain-community) (2.33.2)\n",
            "Requirement already satisfied: mypy-extensions>=0.3.0 in /usr/local/lib/python3.11/dist-packages (from typing-inspect<1,>=0.4.0->dataclasses-json<0.7,>=0.5.7->langchain-community) (1.1.0)\n",
            "Requirement already satisfied: sniffio>=1.1 in /usr/local/lib/python3.11/dist-packages (from anyio->httpx<1,>=0.23.0->langsmith>=0.1.125->langchain-community) (1.3.1)\n",
            "Requirement already satisfied: langchain_openai in /usr/local/lib/python3.11/dist-packages (0.3.28)\n",
            "Requirement already satisfied: langchain-core<1.0.0,>=0.3.68 in /usr/local/lib/python3.11/dist-packages (from langchain_openai) (0.3.71)\n",
            "Requirement already satisfied: openai<2.0.0,>=1.86.0 in /usr/local/lib/python3.11/dist-packages (from langchain_openai) (1.97.1)\n",
            "Requirement already satisfied: tiktoken<1,>=0.7 in /usr/local/lib/python3.11/dist-packages (from langchain_openai) (0.9.0)\n",
            "Requirement already satisfied: langsmith>=0.3.45 in /usr/local/lib/python3.11/dist-packages (from langchain-core<1.0.0,>=0.3.68->langchain_openai) (0.4.8)\n",
            "Requirement already satisfied: tenacity!=8.4.0,<10.0.0,>=8.1.0 in /usr/local/lib/python3.11/dist-packages (from langchain-core<1.0.0,>=0.3.68->langchain_openai) (8.5.0)\n",
            "Requirement already satisfied: jsonpatch<2.0,>=1.33 in /usr/local/lib/python3.11/dist-packages (from langchain-core<1.0.0,>=0.3.68->langchain_openai) (1.33)\n",
            "Requirement already satisfied: PyYAML>=5.3 in /usr/local/lib/python3.11/dist-packages (from langchain-core<1.0.0,>=0.3.68->langchain_openai) (6.0.2)\n",
            "Requirement already satisfied: typing-extensions>=4.7 in /usr/local/lib/python3.11/dist-packages (from langchain-core<1.0.0,>=0.3.68->langchain_openai) (4.14.1)\n",
            "Requirement already satisfied: packaging>=23.2 in /usr/local/lib/python3.11/dist-packages (from langchain-core<1.0.0,>=0.3.68->langchain_openai) (25.0)\n",
            "Requirement already satisfied: pydantic>=2.7.4 in /usr/local/lib/python3.11/dist-packages (from langchain-core<1.0.0,>=0.3.68->langchain_openai) (2.11.7)\n",
            "Requirement already satisfied: anyio<5,>=3.5.0 in /usr/local/lib/python3.11/dist-packages (from openai<2.0.0,>=1.86.0->langchain_openai) (4.9.0)\n",
            "Requirement already satisfied: distro<2,>=1.7.0 in /usr/local/lib/python3.11/dist-packages (from openai<2.0.0,>=1.86.0->langchain_openai) (1.9.0)\n",
            "Requirement already satisfied: httpx<1,>=0.23.0 in /usr/local/lib/python3.11/dist-packages (from openai<2.0.0,>=1.86.0->langchain_openai) (0.28.1)\n",
            "Requirement already satisfied: jiter<1,>=0.4.0 in /usr/local/lib/python3.11/dist-packages (from openai<2.0.0,>=1.86.0->langchain_openai) (0.10.0)\n",
            "Requirement already satisfied: sniffio in /usr/local/lib/python3.11/dist-packages (from openai<2.0.0,>=1.86.0->langchain_openai) (1.3.1)\n",
            "Requirement already satisfied: tqdm>4 in /usr/local/lib/python3.11/dist-packages (from openai<2.0.0,>=1.86.0->langchain_openai) (4.67.1)\n",
            "Requirement already satisfied: regex>=2022.1.18 in /usr/local/lib/python3.11/dist-packages (from tiktoken<1,>=0.7->langchain_openai) (2024.11.6)\n",
            "Requirement already satisfied: requests>=2.26.0 in /usr/local/lib/python3.11/dist-packages (from tiktoken<1,>=0.7->langchain_openai) (2.32.3)\n",
            "Requirement already satisfied: idna>=2.8 in /usr/local/lib/python3.11/dist-packages (from anyio<5,>=3.5.0->openai<2.0.0,>=1.86.0->langchain_openai) (3.10)\n",
            "Requirement already satisfied: certifi in /usr/local/lib/python3.11/dist-packages (from httpx<1,>=0.23.0->openai<2.0.0,>=1.86.0->langchain_openai) (2025.7.14)\n",
            "Requirement already satisfied: httpcore==1.* in /usr/local/lib/python3.11/dist-packages (from httpx<1,>=0.23.0->openai<2.0.0,>=1.86.0->langchain_openai) (1.0.9)\n",
            "Requirement already satisfied: h11>=0.16 in /usr/local/lib/python3.11/dist-packages (from httpcore==1.*->httpx<1,>=0.23.0->openai<2.0.0,>=1.86.0->langchain_openai) (0.16.0)\n",
            "Requirement already satisfied: jsonpointer>=1.9 in /usr/local/lib/python3.11/dist-packages (from jsonpatch<2.0,>=1.33->langchain-core<1.0.0,>=0.3.68->langchain_openai) (3.0.0)\n",
            "Requirement already satisfied: orjson<4.0.0,>=3.9.14 in /usr/local/lib/python3.11/dist-packages (from langsmith>=0.3.45->langchain-core<1.0.0,>=0.3.68->langchain_openai) (3.11.0)\n",
            "Requirement already satisfied: requests-toolbelt<2.0.0,>=1.0.0 in /usr/local/lib/python3.11/dist-packages (from langsmith>=0.3.45->langchain-core<1.0.0,>=0.3.68->langchain_openai) (1.0.0)\n",
            "Requirement already satisfied: zstandard<0.24.0,>=0.23.0 in /usr/local/lib/python3.11/dist-packages (from langsmith>=0.3.45->langchain-core<1.0.0,>=0.3.68->langchain_openai) (0.23.0)\n",
            "Requirement already satisfied: annotated-types>=0.6.0 in /usr/local/lib/python3.11/dist-packages (from pydantic>=2.7.4->langchain-core<1.0.0,>=0.3.68->langchain_openai) (0.7.0)\n",
            "Requirement already satisfied: pydantic-core==2.33.2 in /usr/local/lib/python3.11/dist-packages (from pydantic>=2.7.4->langchain-core<1.0.0,>=0.3.68->langchain_openai) (2.33.2)\n",
            "Requirement already satisfied: typing-inspection>=0.4.0 in /usr/local/lib/python3.11/dist-packages (from pydantic>=2.7.4->langchain-core<1.0.0,>=0.3.68->langchain_openai) (0.4.1)\n",
            "Requirement already satisfied: charset-normalizer<4,>=2 in /usr/local/lib/python3.11/dist-packages (from requests>=2.26.0->tiktoken<1,>=0.7->langchain_openai) (3.4.2)\n",
            "Requirement already satisfied: urllib3<3,>=1.21.1 in /usr/local/lib/python3.11/dist-packages (from requests>=2.26.0->tiktoken<1,>=0.7->langchain_openai) (2.5.0)\n"
          ]
        }
      ],
      "execution_count": 2
    },
    {
      "cell_type": "code",
      "source": [
        "#Library Imports\n",
        "#Standard Python Libraries\n",
        "\n",
        "import os          #Operating system interface for environment variables\n",
        "import json        #JSON data parsing and manipulation\n",
        "import requests    #HTTP library for making API calls to Google Maps\n",
        "from typing import List, Dict    #Type hints for better code documentation\n",
        "from dataclasses import dataclass    #Decorator for creating data classes\n",
        "from getpass import getpass    #Secure password input without echoing to screen"
      ],
      "metadata": {
        "trusted": true,
        "execution": {
          "iopub.status.busy": "2025-07-24T13:33:40.554676Z",
          "iopub.execute_input": "2025-07-24T13:33:40.55531Z",
          "iopub.status.idle": "2025-07-24T13:33:40.561131Z",
          "shell.execute_reply.started": "2025-07-24T13:33:40.555278Z",
          "shell.execute_reply": "2025-07-24T13:33:40.560183Z"
        },
        "id": "Od34UPnwxpey"
      },
      "outputs": [],
      "execution_count": 3
    },
    {
      "cell_type": "code",
      "source": [
        "#Langchain Core Components\n",
        "#Language Model Integration\n",
        "from langchain_openai import ChatOpenAI    #OpenAI's GPT models interface\n",
        "\n",
        "#Prompt Engineering Tools\n",
        "from langchain.prompts import PromptTemplate, FewShotPromptTemplate    #Template systems for structured prompts\n",
        "\n",
        "#Vector Operations and Embeddings\n",
        "from langchain_openai import OpenAIEmbeddings    #Convert text to numerical vectors\n",
        "from langchain_community.vectorstores import FAISS    #Vector database for similarity search\n",
        "from langchain.schema import Document    #Document structure for text processing\n",
        "\n",
        "#Retrieval-Augmented Generation (RAG)\n",
        "from langchain.chains import RetrievalQA    #Question-answering chain with document retrieval"
      ],
      "metadata": {
        "trusted": true,
        "execution": {
          "iopub.status.busy": "2025-07-24T13:34:01.56764Z",
          "iopub.execute_input": "2025-07-24T13:34:01.56801Z",
          "iopub.status.idle": "2025-07-24T13:34:01.574034Z",
          "shell.execute_reply.started": "2025-07-24T13:34:01.567984Z",
          "shell.execute_reply": "2025-07-24T13:34:01.572929Z"
        },
        "id": "YO706CFyxpez"
      },
      "outputs": [],
      "execution_count": 4
    },
    {
      "cell_type": "markdown",
      "source": [
        "# 2: Securely Set API Keys\n",
        "This section implements security best practices for handling sensitive API credentials.\n",
        "\n",
        "**🔑 Required API Keys**\n",
        "\n",
        "**OpenAI API Key:**\\\n",
        "Purpose: Powers GPT-3.5-turbo for sentiment analysis, summarization, and question-answering\\\n",
        "Format: Starts with sk- followed by alphanumeric characters\\\n",
        "Cost: Pay-per-use based on tokens processed\n",
        "\n",
        "**Google Maps API Key:**\\\n",
        "Purpose: Fetches real restaurant reviews from Google Maps Places API\\\n",
        "Services needed: Places API with reviews access\\\n",
        "Cost: Free tier available, then pay-per-request"
      ],
      "metadata": {
        "id": "moPFnWT8xpez"
      }
    },
    {
      "cell_type": "code",
      "source": [
        "#Securely get API Keys using getpass\n",
        "if \"OPENAI_API_KEY\" not in os.environ:\n",
        "    os.environ[\"OPENAI_API_KEY\"] = getpass(\"Enter your OpenAI API key: \")\n",
        "\n",
        "if \"Maps_API_KEY\" not in os.environ:\n",
        "    os.environ[\"Maps_API_KEY\"] = getpass(\"Enter your Google Maps API key: \")"
      ],
      "metadata": {
        "trusted": true,
        "execution": {
          "iopub.status.busy": "2025-07-24T13:34:06.173151Z",
          "iopub.execute_input": "2025-07-24T13:34:06.173518Z",
          "iopub.status.idle": "2025-07-24T13:34:27.696569Z",
          "shell.execute_reply.started": "2025-07-24T13:34:06.173494Z",
          "shell.execute_reply": "2025-07-24T13:34:27.695307Z"
        },
        "id": "B_mjKzggxpez",
        "outputId": "5a0b91f1-67c7-4e83-cfef-11b442ce0430",
        "colab": {
          "base_uri": "https://localhost:8080/"
        }
      },
      "outputs": [
        {
          "name": "stdout",
          "output_type": "stream",
          "text": [
            "Enter your OpenAI API key: ··········\n",
            "Enter your Google Maps API key: ··········\n"
          ]
        }
      ],
      "execution_count": 5
    },
    {
      "cell_type": "markdown",
      "source": [
        "# 3: Define the Data Structure\n",
        "This section establishes a structured data model for restaurant reviews using  @dataclass decorator. Creating a well-defined data structure is fundamental to building AI applications that can process information consistently and reliably."
      ],
      "metadata": {
        "id": "nhmdZbJsxpez"
      }
    },
    {
      "cell_type": "code",
      "source": [
        "@dataclass\n",
        "class ReviewData:\n",
        "    \"\"\"Simple review data structure.\"\"\"\n",
        "    restaurant_name: str\n",
        "    review_text: str\n",
        "    rating: float\n",
        "    reviewer_name: str"
      ],
      "metadata": {
        "trusted": true,
        "execution": {
          "iopub.status.busy": "2025-07-24T13:34:41.601957Z",
          "iopub.execute_input": "2025-07-24T13:34:41.602338Z",
          "iopub.status.idle": "2025-07-24T13:34:41.608605Z",
          "shell.execute_reply.started": "2025-07-24T13:34:41.602307Z",
          "shell.execute_reply": "2025-07-24T13:34:41.607335Z"
        },
        "id": "CPH83M8fxpe0"
      },
      "outputs": [],
      "execution_count": 6
    },
    {
      "cell_type": "markdown",
      "source": [
        "# 4: Function to Fetch Reviews from Google Maps\n",
        "This cell contains the function that does the heavy lifting of talking to the Google Maps API. It works in three steps:\n",
        "\n",
        "**Text Search:** It takes your search query (e.g., \"best pizza in Shah Alam\") and asks Google for a list of matching restaurants.\n",
        "\n",
        "**Place Details:** For each restaurant found, it makes a second API call to get specific details, most importantly, the user reviews.\n",
        "\n",
        "**Formatting:** It organizes the fetched data into the ReviewData structure we defined in the previous cell."
      ],
      "metadata": {
        "id": "wwqLye6vxpe0"
      }
    },
    {
      "cell_type": "code",
      "source": [
        "def get_Maps_reviews(api_key: str, query: str) -> List[ReviewData]:\n",
        "    \"\"\"Fetches restaurant reviews using the Google Maps Places API.\"\"\"\n",
        "    print(f\"Searching for restaurants matching: '{query}'...\")\n",
        "    places_data = []\n",
        "\n",
        "    # Step 1: Find a list of places (restaurants)\n",
        "    search_url = \"https://maps.googleapis.com/maps/api/place/textsearch/json\"\n",
        "    search_params = {\"query\": query, \"type\": \"restaurant\", \"key\": api_key}\n",
        "\n",
        "    try:\n",
        "        response = requests.get(search_url, params=search_params)\n",
        "        response.raise_for_status()  # Raise an exception for bad status codes\n",
        "        search_results = response.json().get(\"results\", [])\n",
        "\n",
        "        if not search_results:\n",
        "            print(\"No restaurants found for your query.\")\n",
        "            return []\n",
        "\n",
        "        # Step 2: For each place, get its details (including reviews)\n",
        "        details_url = \"https://maps.googleapis.com/maps/api/place/details/json\"\n",
        "        for place in search_results[:5]:  # Get details for the first 5 results\n",
        "            place_id = place.get(\"place_id\")\n",
        "            if not place_id:\n",
        "                continue\n",
        "\n",
        "            details_params = {\n",
        "                \"place_id\": place_id,\n",
        "                \"fields\": \"name,review,rating\",\n",
        "                \"key\": api_key,\n",
        "            }\n",
        "            details_response = requests.get(details_url, params=details_params)\n",
        "            details_response.raise_for_status()\n",
        "            place_details = details_response.json().get(\"result\", {})\n",
        "\n",
        "            # Step 3: Format the reviews into ReviewData objects\n",
        "            restaurant_name = place_details.get(\"name\")\n",
        "            reviews = place_details.get(\"reviews\", [])\n",
        "            for review in reviews:\n",
        "                if review.get(\"text\"):  # Only use reviews with text\n",
        "                    places_data.append(\n",
        "                        ReviewData(\n",
        "                            restaurant_name=restaurant_name,\n",
        "                            review_text=review[\"text\"],\n",
        "                            rating=float(review.get(\"rating\", 0)),\n",
        "                            reviewer_name=review.get(\"author_name\", \"Anonymous\"),\n",
        "                        )\n",
        "                    )\n",
        "\n",
        "        print(f\"Successfully fetched {len(places_data)} reviews from up to 5 restaurants.\")\n",
        "        return places_data\n",
        "\n",
        "    except requests.exceptions.RequestException as e:\n",
        "        print(f\"An error occurred with the API request: {e}\")\n",
        "        return []\n",
        "    except Exception as e:\n",
        "        print(f\"An unexpected error occurred: {e}\")\n",
        "        return []"
      ],
      "metadata": {
        "trusted": true,
        "execution": {
          "iopub.status.busy": "2025-07-24T13:34:48.947216Z",
          "iopub.execute_input": "2025-07-24T13:34:48.947577Z",
          "iopub.status.idle": "2025-07-24T13:34:48.959583Z",
          "shell.execute_reply.started": "2025-07-24T13:34:48.947548Z",
          "shell.execute_reply": "2025-07-24T13:34:48.958267Z"
        },
        "id": "NshvU_MYxpe0"
      },
      "outputs": [],
      "execution_count": 7
    },
    {
      "cell_type": "markdown",
      "source": [
        "# 5: The AI Reviewer Class\n",
        "This is the core of our application, where all the AI logic lives. The SimplifiedRestaurantReviewer class is initialized with your OpenAI API key and sets up the three different AI capabilities:\n",
        "\n",
        "**init:** The constructor that initializes the LangChain language model (ChatOpenAI) and the text embedding model (OpenAIEmbeddings).\n",
        "\n",
        "**_setup_prompts:** This method creates the custom instructions (prompts) that we will send to the AI for sentiment analysis and summarization.\n",
        "\n",
        "**analyze_sentiment, summarize_reviews, and ask_question:** These are the methods that execute each of the three AI tasks."
      ],
      "metadata": {
        "id": "HR5OxcSUxpe0"
      }
    },
    {
      "cell_type": "code",
      "source": [
        "class SimplifiedRestaurantReviewer:\n",
        "    \"\"\"Simplified Restaurant Reviewer with 3 GenAI Capabilities.\"\"\"\n",
        "\n",
        "    def __init__(self, openai_api_key: str):\n",
        "        self.openai_api_key = openai_api_key\n",
        "        self.llm = ChatOpenAI(temperature=0.3, model=\"gpt-3.5-turbo\", api_key=self.openai_api_key)\n",
        "        self.embeddings = OpenAIEmbeddings(api_key=self.openai_api_key)\n",
        "        self.vector_store = None\n",
        "        self.qa_chain = None\n",
        "        self._setup_prompts()\n",
        "\n",
        "    def _setup_prompts(self):\n",
        "        sentiment_examples = [\n",
        "            {\"review\": \"The pasta was divine!\", \"sentiment\": \"POSITIVE - Score: 0.9\"},\n",
        "            {\"review\": \"Food was terrible, service slow.\", \"sentiment\": \"NEGATIVE - Score: -0.8\"},\n",
        "            {\"review\": \"It was okay. Nothing special.\", \"sentiment\": \"NEUTRAL - Score: 0.1\"}\n",
        "        ]\n",
        "        sentiment_template = PromptTemplate(input_variables=[\"review\", \"sentiment\"], template=\"Review: {review}\\nSentiment: {sentiment}\")\n",
        "        self.sentiment_prompt = FewShotPromptTemplate(\n",
        "            examples=sentiment_examples,\n",
        "            example_prompt=sentiment_template,\n",
        "            prefix=\"Analyze the sentiment of restaurant reviews:\\n\",\n",
        "            suffix=\"Review: {review}\\nSentiment:\",\n",
        "            input_variables=[\"review\"]\n",
        "        )\n",
        "        self.summary_prompt = PromptTemplate(\n",
        "            input_variables=[\"reviews\"],\n",
        "            template=\"\"\"Analyze these restaurant reviews and provide a structured summary in JSON format:\n",
        "Reviews:\n",
        "{reviews}\n",
        "Please respond with ONLY a JSON object in this exact format:\n",
        "{{\"PROS\": [\"list of positive aspects\"],\"CONS\": [\"list of negative aspects\"],\"Overall Summary\": \"brief overall summary\\n\",\"Recommendation Score\": number_from_1_to_10}}\"\"\"\n",
        "        )\n",
        "\n",
        "    def analyze_sentiment(self, review_text: str) -> Dict:\n",
        "        \"\"\"Use few-shot prompting to analyze sentiment.\"\"\"\n",
        "        prompt = self.sentiment_prompt.format(review=review_text)\n",
        "        response = self.llm.invoke(prompt)\n",
        "\n",
        "        # Extract sentiment from the response\n",
        "        response_text = response.content.strip()\n",
        "\n",
        "        # Parse the sentiment (POSITIVE, NEGATIVE, or NEUTRAL)\n",
        "        sentiment = \"Unknown\"\n",
        "        if \"POSITIVE\" in response_text.upper():\n",
        "            sentiment = \"POSITIVE\"\n",
        "        elif \"NEGATIVE\" in response_text.upper():\n",
        "            sentiment = \"NEGATIVE\"\n",
        "        elif \"NEUTRAL\" in response_text.upper():\n",
        "            sentiment = \"NEUTRAL\"\n",
        "\n",
        "        return {\n",
        "            \"sentiment\": sentiment,\n",
        "            \"explanation\": response_text\n",
        "        }\n",
        "\n",
        "    def summarize_reviews(self, reviews: List[ReviewData]) -> Dict:\n",
        "        \"\"\"Use structured output to summarize multiple reviews.\"\"\"\n",
        "        review_texts = \"\\n\".join([f\"Review: {r.review_text} (Rating: {r.rating}/5)\" for r in reviews])\n",
        "        prompt = self.summary_prompt.format(reviews=review_texts)\n",
        "        response = self.llm.invoke(prompt)\n",
        "        try:\n",
        "            return json.loads(response.content)\n",
        "        except json.JSONDecodeError:\n",
        "            return {\"error\": \"Failed to parse JSON response\", \"raw_response\": response.content}\n",
        "\n",
        "    def setup_rag(self, reviews: List[ReviewData]):\n",
        "        \"\"\"Setup RAG system with review documents.\"\"\"\n",
        "        documents = [Document(page_content=rev.review_text, metadata={\"restaurant\": rev.restaurant_name, \"rating\": rev.rating, \"reviewer\": rev.reviewer_name}) for rev in reviews]\n",
        "        self.vector_store = FAISS.from_documents(documents, self.embeddings)\n",
        "        self.qa_chain = RetrievalQA.from_chain_type(llm=self.llm, chain_type=\"stuff\", retriever=self.vector_store.as_retriever())\n",
        "        print(f\"RAG system setup complete with {len(reviews)} reviews.\")\n",
        "\n",
        "    def ask_question(self, question: str) -> str:\n",
        "        \"\"\"Use RAG to answer questions about restaurants.\"\"\"\n",
        "        if not self.qa_chain:\n",
        "            return \"RAG system not initialized.\"\n",
        "        response = self.qa_chain.invoke({\"query\": question})\n",
        "        return response['result']"
      ],
      "metadata": {
        "trusted": true,
        "execution": {
          "iopub.status.busy": "2025-07-24T13:35:12.329622Z",
          "iopub.execute_input": "2025-07-24T13:35:12.330047Z",
          "iopub.status.idle": "2025-07-24T13:35:12.344579Z",
          "shell.execute_reply.started": "2025-07-24T13:35:12.330011Z",
          "shell.execute_reply": "2025-07-24T13:35:12.343405Z"
        },
        "id": "OqEAiUlJxpe0"
      },
      "outputs": [],
      "execution_count": 8
    },
    {
      "cell_type": "markdown",
      "source": [
        "# 6: Initialize and Fetch Data\n",
        "\n",
        "Now we start the main process. This cell creates an instance of our SimplifiedRestaurantReviewer class and then calls the get_Maps_reviews function to fetch live data. You can input the search_query to find any type of food or restaurant you're interested in."
      ],
      "metadata": {
        "id": "yRSLU1rtxpe0"
      }
    },
    {
      "cell_type": "code",
      "source": [
        "# Step 1: Initialization and Data Fetching\n",
        "print(\"-\" * 50)\n",
        "\n",
        "# Initialize the core AI class\n",
        "reviewer = SimplifiedRestaurantReviewer(os.environ[\"OPENAI_API_KEY\"])\n",
        "\n",
        "# Prompt user for search query\n",
        "search_query = input(\"Enter your restaurant search query (e.g., 'best pizza in Shah Alam'): \")\n",
        "\n",
        "# Fetch reviews from Google Maps Places API\n",
        "all_reviews = get_Maps_reviews(os.environ[\"Maps_API_KEY\"], search_query)\n",
        "print(\"-\" * 50)"
      ],
      "metadata": {
        "trusted": true,
        "execution": {
          "iopub.status.busy": "2025-07-24T13:41:18.462034Z",
          "iopub.execute_input": "2025-07-24T13:41:18.462439Z",
          "iopub.status.idle": "2025-07-24T13:41:27.497455Z",
          "shell.execute_reply.started": "2025-07-24T13:41:18.462413Z",
          "shell.execute_reply": "2025-07-24T13:41:27.496301Z"
        },
        "id": "Gnb_lYuvxpe0",
        "outputId": "4f54bb48-d3ad-4900-cca3-6af1cd2fd634",
        "colab": {
          "base_uri": "https://localhost:8080/"
        }
      },
      "outputs": [
        {
          "output_type": "stream",
          "name": "stdout",
          "text": [
            "--------------------------------------------------\n",
            "Enter your restaurant search query (e.g., 'best pizza in Shah Alam'): best nasi dagang in shah alam\n",
            "Searching for restaurants matching: 'best nasi dagang in shah alam'...\n",
            "Successfully fetched 25 reviews from up to 5 restaurants.\n",
            "--------------------------------------------------\n"
          ]
        }
      ],
      "execution_count": 13
    },
    {
      "cell_type": "markdown",
      "source": [
        "# 7: Run AI Capability 1 - Sentiment Analysis\n",
        "\n",
        "This cell demonstrates the first AI capability. It takes the very first review from our fetched data and sends it to the analyze_sentiment method. The AI then uses the few-shot examples we gave it to classify the sentiment and provide an explanation."
      ],
      "metadata": {
        "id": "DwPi5g8Lxpe0"
      }
    },
    {
      "cell_type": "code",
      "source": [
        "#AI Capability 1: Few-Shot Sentiment Analysis\n",
        "if all_reviews:\n",
        "    print(\"\\nCAPABILITY 1: Few-Shot Sentiment Analysis\")\n",
        "    print(\"=\"*40)\n",
        "\n",
        "    #Analyze sentiment for multiple reviews (up to 3)\n",
        "    num_reviews_to_analyze = min(3, len(all_reviews))\n",
        "\n",
        "    for i in range(num_reviews_to_analyze):\n",
        "        review = all_reviews[i]\n",
        "        print(f\"\\n---Review {i+1}---\")\n",
        "        print(f\"Restaurant: '{review.restaurant_name}'\")\n",
        "        print(f\"Review Text: '{review.review_text[:200]}{'...' if len(review.review_text) > 200 else ''}'\")\n",
        "\n",
        "        sentiment_result = reviewer.analyze_sentiment(review.review_text)\n",
        "        print(f\"Sentiment: {sentiment_result.get('sentiment', 'Unknown')}\")\n",
        "        print(f\"AI Explanation: {sentiment_result['explanation']}\")\n",
        "\n",
        "        if i < num_reviews_to_analyze - 1:  # Don't print separator after last review\n",
        "            print(\"-\" * 30)\n",
        "\n",
        "    print(\"-\" * 50)\n",
        "else:\n",
        "    print(\"Skipping analysis because no reviews were fetched.\")"
      ],
      "metadata": {
        "trusted": true,
        "execution": {
          "iopub.status.busy": "2025-07-24T13:41:32.753619Z",
          "iopub.execute_input": "2025-07-24T13:41:32.754005Z",
          "iopub.status.idle": "2025-07-24T13:41:35.518676Z",
          "shell.execute_reply.started": "2025-07-24T13:41:32.753978Z",
          "shell.execute_reply": "2025-07-24T13:41:35.517458Z"
        },
        "id": "2W97_YVbxpe1",
        "outputId": "013ab2ce-eb23-405a-9dbe-2905a2e20be0",
        "colab": {
          "base_uri": "https://localhost:8080/"
        }
      },
      "outputs": [
        {
          "output_type": "stream",
          "name": "stdout",
          "text": [
            "\n",
            "CAPABILITY 1: Few-Shot Sentiment Analysis\n",
            "========================================\n",
            "\n",
            "---Review 1---\n",
            "Restaurant: 'Baam Nasi Dagang Terengganu'\n",
            "Review Text: 'Authentic taste of Terengganu!\n",
            "Nasi dagang and nasi minyak was very aromatic and appetizing. Love the ambience. Small yet comfortable and clean warong. Do come early especially on weekends.'\n",
            "Sentiment: POSITIVE\n",
            "AI Explanation: POSITIVE - Score: 0.8\n",
            "------------------------------\n",
            "\n",
            "---Review 2---\n",
            "Restaurant: 'Baam Nasi Dagang Terengganu'\n",
            "Review Text: 'I always prefer nasi dagang terengganu compared to kelantan one mainly because of the existence of the acar timun lol and also the kuah lah i guess.. In KL, my favorite is quiet farrrr and the deliver...'\n",
            "Sentiment: POSITIVE\n",
            "AI Explanation: POSITIVE - Score: 0.7\n",
            "------------------------------\n",
            "\n",
            "---Review 3---\n",
            "Restaurant: 'Baam Nasi Dagang Terengganu'\n",
            "Review Text: 'Overall very tasty. I grew up in Terengganu eating nasi minyak for the past 32 years and I can tell the authenticity of this one. The shop setup is very comfortable and clean. Felt very kampung like.\n",
            "...'\n",
            "Sentiment: POSITIVE\n",
            "AI Explanation: POSITIVE - Score: 0.7\n",
            "--------------------------------------------------\n"
          ]
        }
      ],
      "execution_count": 14
    },
    {
      "cell_type": "markdown",
      "source": [
        "# 8: Run AI Capability 2 - Structured Summary\n",
        "\n",
        "Here, we demonstrate the second capability. The code calls the summarize_reviews method, passing in the entire list of fetched reviews. It then prints the AI-generated summary, which is formatted as a clean JSON object, making it easy to read and use."
      ],
      "metadata": {
        "id": "1MN6Snv1xpe1"
      }
    },
    {
      "cell_type": "code",
      "source": [
        "#AI Capability 2: Structured Summary\n",
        "if all_reviews:\n",
        "    print(\"\\nCAPABILITY 2: Structured Summary\")\n",
        "    print(\"=\"*40)\n",
        "    print(\"Generating a summary of all fetched reviews...\")\n",
        "    summary_result = reviewer.summarize_reviews(all_reviews)\n",
        "    #Print the JSON summary\n",
        "    print(json.dumps(summary_result, indent=2))\n",
        "    print(\"-\" * 50)"
      ],
      "metadata": {
        "trusted": true,
        "execution": {
          "iopub.status.busy": "2025-07-24T13:41:45.488082Z",
          "iopub.execute_input": "2025-07-24T13:41:45.488448Z",
          "iopub.status.idle": "2025-07-24T13:41:48.070719Z",
          "shell.execute_reply.started": "2025-07-24T13:41:45.488424Z",
          "shell.execute_reply": "2025-07-24T13:41:48.069741Z"
        },
        "id": "7xaZbu1Xxpe1",
        "outputId": "4c198a69-8612-4a22-e72a-acb313f379c1",
        "colab": {
          "base_uri": "https://localhost:8080/"
        }
      },
      "outputs": [
        {
          "output_type": "stream",
          "name": "stdout",
          "text": [
            "\n",
            "CAPABILITY 2: Structured Summary\n",
            "========================================\n",
            "Generating a summary of all fetched reviews...\n",
            "{\n",
            "  \"PROS\": [\n",
            "    \"Authentic taste of Terengganu dishes\",\n",
            "    \"Comfortable and clean ambiance\",\n",
            "    \"Generous portions of food\",\n",
            "    \"Variety of local Malay dishes\",\n",
            "    \"Reasonable prices\",\n",
            "    \"Friendly owner\",\n",
            "    \"Good selection of meals\",\n",
            "    \"Delicious food with big portions\",\n",
            "    \"Easy access for online ordering\"\n",
            "  ],\n",
            "  \"CONS\": [\n",
            "    \"Confusing pricing for some dishes\",\n",
            "    \"Expensive pricing for certain items\",\n",
            "    \"Long queues during peak hours\",\n",
            "    \"Inconsistent service quality\"\n",
            "  ],\n",
            "  \"Overall Summary\": \"The restaurant offers authentic and delicious Terengganu and Kelantanese dishes with generous portions at reasonable prices. The ambiance is comfortable and clean, but there may be long queues during peak hours. Some customers have experienced confusing pricing and inconsistent service quality.\",\n",
            "  \"Recommendation Score\": 8\n",
            "}\n",
            "--------------------------------------------------\n"
          ]
        }
      ],
      "execution_count": 15
    },
    {
      "cell_type": "markdown",
      "source": [
        "# 9: Run AI Capability 3 - RAG Q&A\n",
        "\n",
        "Finally, this cell showcases Retrieval-Augmented Generation (RAG).\n",
        "\n",
        "**setup_rag:** First, it builds a searchable \"knowledge base\" from all the reviews we fetched.\n",
        "\n",
        "**ask_question:** Then, it asks a specific question. The AI will search through the reviews to find the relevant information and use it to generate a factual answer."
      ],
      "metadata": {
        "id": "U5Ol4zEjxpe1"
      }
    },
    {
      "cell_type": "code",
      "source": [
        "#AI Capability 3: Retrieval-Augmented Generation (RAG)\n",
        "if all_reviews:\n",
        "    print(\"\\nCAPABILITY 3: Retrieval-Augmented Generation (RAG)\")\n",
        "    print(\"=\"*40)\n",
        "    #Setup the RAG system with the fetched reviews\n",
        "    reviewer.setup_rag(all_reviews)\n",
        "\n",
        "    #Prompt user for question\n",
        "    print(\"Examples of questions you can ask:\")\n",
        "    print(\"- Which place has the best sambal or is mentioned most positively?\")\n",
        "    print(\"- What are the common complaints about service?\")\n",
        "    print(\"- Which restaurant has the most authentic taste?\")\n",
        "    print(\"- What do customers say about pricing?\")\n",
        "    print()\n",
        "\n",
        "    question = input(\"Enter your question about the restaurant reviews: \")\n",
        "    print(f\"\\nAsking question: '{question}'\")\n",
        "    rag_answer = reviewer.ask_question(question)\n",
        "    print(\"AI Answer:\", rag_answer)\n",
        "    print(\"-\" * 50)\n",
        "\n",
        "    #Footer\n",
        "    #Notebook prepared by: Puteri Irene Alia binti Abdul Hadi (puteriirene@gmail.com)"
      ],
      "metadata": {
        "trusted": true,
        "execution": {
          "iopub.status.busy": "2025-07-24T13:42:08.831679Z",
          "iopub.execute_input": "2025-07-24T13:42:08.832078Z",
          "iopub.status.idle": "2025-07-24T13:42:24.327884Z",
          "shell.execute_reply.started": "2025-07-24T13:42:08.832049Z",
          "shell.execute_reply": "2025-07-24T13:42:24.32684Z"
        },
        "jupyter": {
          "source_hidden": true
        },
        "id": "fFJBgJfZxpe1",
        "outputId": "8ab34163-f552-4f21-e220-b67a348495d2",
        "colab": {
          "base_uri": "https://localhost:8080/"
        }
      },
      "outputs": [
        {
          "output_type": "stream",
          "name": "stdout",
          "text": [
            "\n",
            "CAPABILITY 3: Retrieval-Augmented Generation (RAG)\n",
            "========================================\n",
            "RAG system setup complete with 25 reviews.\n",
            "Examples of questions you can ask:\n",
            "- Which place has the best sambal or is mentioned most positively?\n",
            "- What are the common complaints about service?\n",
            "- Which restaurant has the most authentic taste?\n",
            "- What do customers say about pricing?\n",
            "\n",
            "Enter your question about the restaurant reviews: which -place suitable for kids?\n",
            "\n",
            "Asking question: 'which -place suitable for kids?'\n",
            "AI Answer: Based on the context provided, it seems like the restaurant mentioned is suitable for kids. They offer a variety of local Malay dishes, including snacks and soups, which could be appealing to children. However, it's always a good idea to check if they have specific kid-friendly options on their menu or if they provide any facilities for children.\n",
            "--------------------------------------------------\n"
          ]
        }
      ],
      "execution_count": 20
    }
  ]
}